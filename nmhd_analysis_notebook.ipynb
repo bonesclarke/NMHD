{
 "cells": [
  {
   "cell_type": "markdown",
   "metadata": {},
   "source": [
    "# National Mental Health Datahton"
   ]
  },
  {
   "cell_type": "code",
   "execution_count": 1,
   "metadata": {},
   "outputs": [],
   "source": [
    "import pandas as pd\n",
    "import numpy as np\n",
    "import matplotlib.pyplot as plt\n",
    "import seaborn as sns\n",
    "from scipy import stats\n",
    "from scipy.stats import chi2_contingency\n",
    "import re\n",
    "import os\n",
    "import io\n",
    "import difflib\n",
    "from collections import Counter\n",
    "import nltk\n",
    "from nltk.corpus import stopwords\n",
    "from wordcloud import WordCloud\n",
    "from contextlib import redirect_stdout\n",
    "import tqdm\n",
    "from datetime import datetime\n",
    "import statsmodels.api as sm\n",
    "from statsmodels.stats.multicomp import pairwise_tukeyhsd\n",
    "from statsmodels.stats.outliers_influence import variance_inflation_factor\n",
    "from textblob import TextBlob\n",
    "from typing import Tuple, Dict, Any"
   ]
  },
  {
   "cell_type": "markdown",
   "metadata": {},
   "source": [
    "## Utilities"
   ]
  },
  {
   "cell_type": "markdown",
   "metadata": {},
   "source": [
    "#### Capture Print"
   ]
  },
  {
   "cell_type": "code",
   "execution_count": 2,
   "metadata": {},
   "outputs": [],
   "source": [
    "# Function to capture print outputs\n",
    "def capture_print(func, filename):\n",
    "    f = io.StringIO()\n",
    "    with redirect_stdout(f):\n",
    "        func()\n",
    "    output = f.getvalue()\n",
    "    if output.strip(): \n",
    "        with open(f'text_outputs/{filename}.txt', 'w') as file:\n",
    "            file.write(output)"
   ]
  },
  {
   "cell_type": "markdown",
   "metadata": {},
   "source": [
    "#### Load Data"
   ]
  },
  {
   "cell_type": "code",
   "execution_count": null,
   "metadata": {},
   "outputs": [],
   "source": [
    "# Load all .csv files within the input folder\n",
    "# Code to be revised based on data format provided\n",
    "def load_csv_files(folder_path):\n",
    "    all_data = []\n",
    "    file_info =[]\n",
    "    \n",
    "    for filename in os.listdir(folder_path):\n",
    "        if filename.endswith('.csv'):\n",
    "            file_path = os.path.join(folder_path, filename)\n",
    "            try:\n",
    "                for encoding in ['utf-8']:\n",
    "                    try:\n",
    "                        df = pd.read_csv(file_path, encoding=encoding, low_memory=False)\n",
    "                        df['Assessment Completion Date'] = pd.to_datetime(\n",
    "                                df['Assessment Completion Date'], \n",
    "                                format='mixed',\n",
    "                                dayfirst=True\n",
    "                            )\n",
    "                        break\n",
    "                    except UnicodeDecodeError:\n",
    "                        continue\n",
    "                else:\n",
    "                    print(f\"Failed to read {filename} with any encoding\")\n",
    "                    continue\n",
    "                \n",
    "                print(f\"Successfully loaded: {filename}\")\n",
    "                all_data.append(df)\n",
    "                \n",
    "                # Collect information about the file\n",
    "                file_info.append({\n",
    "                    'filename': filename,\n",
    "                    'rows': len(df),\n",
    "                    'columns': len(df.columns),\n",
    "                    'memory_usage': df.memory_usage(deep=True).sum() / 1024**2  # in MB\n",
    "                })\n",
    "                \n",
    "            except Exception as e:\n",
    "                print(f\"Error loading {filename}: {str(e)}\")\n",
    "    \n",
    "    if not all_data:\n",
    "        raise ValueError(\"No CSV files were successfully loaded\")\n",
    "    \n",
    "    # Concatenate all dataframes\n",
    "    combined_df = pd.concat(all_data, ignore_index=True)\n",
    "    \n",
    "    # Print information about loaded files\n",
    "    print(\"\\nFile Loading Summary:\")\n",
    "    for info in file_info:\n",
    "        print(f\"{info['filename']}: {info['rows']} rows, {info['columns']} columns, {info['memory_usage']:.2f} MB\")\n",
    "    \n",
    "    return combined_df\n",
    "\n",
    "# Specify the path to the input folder\n",
    "input_folder = 'input'\n",
    "\n",
    "# Load all CSV files from the input folder\n",
    "df = load_csv_files(input_folder)\n",
    "\n",
    "# Display the first few rows of the combined dataframe\n",
    "print(df.head())\n",
    "\n",
    "# Display information about the combined dataframe\n",
    "print(\"\\nDataframe Info:\")\n",
    "print(df.info())\n",
    "\n",
    "# Display the number of rows in the combined dataframe\n",
    "print(f\"\\nTotal number of rows: {len(df)}\")\n",
    "\n",
    "# Display the number of unique files processed\n",
    "print(f\"Number of files processed: {len(os.listdir(input_folder))}\")"
   ]
  }
 ],
 "metadata": {
  "kernelspec": {
   "display_name": ".venv",
   "language": "python",
   "name": "python3"
  },
  "language_info": {
   "codemirror_mode": {
    "name": "ipython",
    "version": 3
   },
   "file_extension": ".py",
   "mimetype": "text/x-python",
   "name": "python",
   "nbconvert_exporter": "python",
   "pygments_lexer": "ipython3",
   "version": "3.13.2"
  }
 },
 "nbformat": 4,
 "nbformat_minor": 2
}
